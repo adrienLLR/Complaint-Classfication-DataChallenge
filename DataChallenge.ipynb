{
 "cells": [
  {
   "cell_type": "markdown",
   "metadata": {},
   "source": [
    "# Adrien Le Louer - Data Challenge"
   ]
  },
  {
   "cell_type": "markdown",
   "metadata": {},
   "source": [
    "## 0. Importing Libraries"
   ]
  },
  {
   "cell_type": "code",
   "execution_count": 2,
   "metadata": {},
   "outputs": [],
   "source": [
    "import pandas as pd\n",
    "import matplotlib.pyplot as plt\n",
    "import string\n",
    "import numpy as np\n",
    "import re\n",
    "import matplotlib.pyplot\n",
    "import seaborn as sns\n",
    "\n",
    "import nltk\n",
    "from nltk.corpus import stopwords\n",
    "from nltk.stem.wordnet import WordNetLemmatizer\n",
    "from nltk.tag import pos_tag\n",
    "from nltk.data import load\n",
    "from nltk.corpus import wordnet\n",
    "\n",
    "from sklearn.feature_extraction.text import TfidfVectorizer, CountVectorizer\n",
    "from sklearn.decomposition import LatentDirichletAllocation as LDA\n",
    "from sklearn.model_selection import cross_val_score, GridSearchCV, train_test_split\n",
    "from sklearn.ensemble import RandomForestClassifier\n",
    "from sklearn.svm import SVC\n",
    "from sklearn.naive_bayes import MultinomialNB\n",
    "from sklearn.metrics import make_scorer, accuracy_score, confusion_matrix, classification_report"
   ]
  },
  {
   "cell_type": "markdown",
   "metadata": {},
   "source": [
    "## 1. First look at the data and potential approaches  "
   ]
  },
  {
   "cell_type": "markdown",
   "metadata": {},
   "source": [
    "The dataset is a collection of text queries from a financial institution's customers. Some queries contain numbers. Each entry consist of a short piece of text representing a customer query and a corresponding label indicating the category of the query. The categories are integer-encoded : each number represents an issue ( fees charged, balance discrepancies, etc ). "
   ]
  },
  {
   "cell_type": "code",
   "execution_count": 3,
   "metadata": {},
   "outputs": [],
   "source": [
    "train_df = pd.read_csv(\"complaints.csv\")"
   ]
  },
  {
   "cell_type": "code",
   "execution_count": 3,
   "metadata": {},
   "outputs": [
    {
     "name": "stdout",
     "output_type": "stream",
     "text": [
      "<class 'pandas.core.frame.DataFrame'>\n",
      "RangeIndex: 2169 entries, 0 to 2168\n",
      "Data columns (total 2 columns):\n",
      " #   Column  Non-Null Count  Dtype \n",
      "---  ------  --------------  ----- \n",
      " 0   text    2169 non-null   object\n",
      " 1   label   2169 non-null   int64 \n",
      "dtypes: int64(1), object(1)\n",
      "memory usage: 34.0+ KB\n"
     ]
    },
    {
     "data": {
      "text/html": [
       "<div>\n",
       "<style scoped>\n",
       "    .dataframe tbody tr th:only-of-type {\n",
       "        vertical-align: middle;\n",
       "    }\n",
       "\n",
       "    .dataframe tbody tr th {\n",
       "        vertical-align: top;\n",
       "    }\n",
       "\n",
       "    .dataframe thead th {\n",
       "        text-align: right;\n",
       "    }\n",
       "</style>\n",
       "<table border=\"1\" class=\"dataframe\">\n",
       "  <thead>\n",
       "    <tr style=\"text-align: right;\">\n",
       "      <th></th>\n",
       "      <th>text</th>\n",
       "      <th>label</th>\n",
       "    </tr>\n",
       "  </thead>\n",
       "  <tbody>\n",
       "    <tr>\n",
       "      <th>0</th>\n",
       "      <td>Why did I only receive a partial amount of wha...</td>\n",
       "      <td>3</td>\n",
       "    </tr>\n",
       "    <tr>\n",
       "      <th>1</th>\n",
       "      <td>my atm transaction was wrong</td>\n",
       "      <td>3</td>\n",
       "    </tr>\n",
       "    <tr>\n",
       "      <th>2</th>\n",
       "      <td>why did i only get 20.00</td>\n",
       "      <td>3</td>\n",
       "    </tr>\n",
       "    <tr>\n",
       "      <th>3</th>\n",
       "      <td>Why is my cash request and the amount I receiv...</td>\n",
       "      <td>3</td>\n",
       "    </tr>\n",
       "    <tr>\n",
       "      <th>4</th>\n",
       "      <td>I tried to withdraw $100, all it gave me was $20.</td>\n",
       "      <td>3</td>\n",
       "    </tr>\n",
       "  </tbody>\n",
       "</table>\n",
       "</div>"
      ],
      "text/plain": [
       "                                                text  label\n",
       "0  Why did I only receive a partial amount of wha...      3\n",
       "1                       my atm transaction was wrong      3\n",
       "2                           why did i only get 20.00      3\n",
       "3  Why is my cash request and the amount I receiv...      3\n",
       "4  I tried to withdraw $100, all it gave me was $20.      3"
      ]
     },
     "execution_count": 3,
     "metadata": {},
     "output_type": "execute_result"
    }
   ],
   "source": [
    "train_df.info()\n",
    "train_df.head()"
   ]
  },
  {
   "cell_type": "markdown",
   "metadata": {},
   "source": [
    "Lets check the length of the queries, it is always useful to know this when we will select the way we vectorize, if we do topic modeling or not "
   ]
  },
  {
   "cell_type": "code",
   "execution_count": 4,
   "metadata": {},
   "outputs": [
    {
     "data": {
      "image/png": "[encoded data removed]",
      "text/plain": [
       "<Figure size 640x480 with 1 Axes>"
      ]
     },
     "metadata": {},
     "output_type": "display_data"
    }
   ],
   "source": [
    "plt.hist(train_df['text'].apply(len), bins=30, density=True, alpha=0.7, color='blue')\n",
    "plt.title('Histogram of queries Lengths')\n",
    "plt.xlabel('Length of queries')\n",
    "plt.ylabel('Density')\n",
    "plt.show()\n"
   ]
  },
  {
   "cell_type": "markdown",
   "metadata": {},
   "source": [
    "The labels are almost evenly distributed"
   ]
  },
  {
   "cell_type": "code",
   "execution_count": 5,
   "metadata": {},
   "outputs": [
    {
     "data": {
      "text/html": [
       "<div>\n",
       "<style scoped>\n",
       "    .dataframe tbody tr th:only-of-type {\n",
       "        vertical-align: middle;\n",
       "    }\n",
       "\n",
       "    .dataframe tbody tr th {\n",
       "        vertical-align: top;\n",
       "    }\n",
       "\n",
       "    .dataframe thead th {\n",
       "        text-align: right;\n",
       "    }\n",
       "</style>\n",
       "<table border=\"1\" class=\"dataframe\">\n",
       "  <thead>\n",
       "    <tr style=\"text-align: right;\">\n",
       "      <th></th>\n",
       "      <th>text</th>\n",
       "    </tr>\n",
       "    <tr>\n",
       "      <th>label</th>\n",
       "      <th></th>\n",
       "    </tr>\n",
       "  </thead>\n",
       "  <tbody>\n",
       "    <tr>\n",
       "      <th>0</th>\n",
       "      <td>227</td>\n",
       "    </tr>\n",
       "    <tr>\n",
       "      <th>1</th>\n",
       "      <td>222</td>\n",
       "    </tr>\n",
       "    <tr>\n",
       "      <th>2</th>\n",
       "      <td>221</td>\n",
       "    </tr>\n",
       "    <tr>\n",
       "      <th>3</th>\n",
       "      <td>220</td>\n",
       "    </tr>\n",
       "    <tr>\n",
       "      <th>4</th>\n",
       "      <td>217</td>\n",
       "    </tr>\n",
       "    <tr>\n",
       "      <th>5</th>\n",
       "      <td>215</td>\n",
       "    </tr>\n",
       "    <tr>\n",
       "      <th>6</th>\n",
       "      <td>213</td>\n",
       "    </tr>\n",
       "    <tr>\n",
       "      <th>7</th>\n",
       "      <td>212</td>\n",
       "    </tr>\n",
       "    <tr>\n",
       "      <th>8</th>\n",
       "      <td>211</td>\n",
       "    </tr>\n",
       "    <tr>\n",
       "      <th>9</th>\n",
       "      <td>211</td>\n",
       "    </tr>\n",
       "  </tbody>\n",
       "</table>\n",
       "</div>"
      ],
      "text/plain": [
       "       text\n",
       "label      \n",
       "0       227\n",
       "1       222\n",
       "2       221\n",
       "3       220\n",
       "4       217\n",
       "5       215\n",
       "6       213\n",
       "7       212\n",
       "8       211\n",
       "9       211"
      ]
     },
     "execution_count": 5,
     "metadata": {},
     "output_type": "execute_result"
    }
   ],
   "source": [
    "train_df.groupby('label').count()"
   ]
  },
  {
   "cell_type": "markdown",
   "metadata": {},
   "source": [
    "There are no NA values to process"
   ]
  },
  {
   "cell_type": "code",
   "execution_count": 6,
   "metadata": {},
   "outputs": [
    {
     "data": {
      "text/plain": [
       "text     0\n",
       "label    0\n",
       "dtype: int64"
      ]
     },
     "execution_count": 6,
     "metadata": {},
     "output_type": "execute_result"
    }
   ],
   "source": [
    "train_df[train_df[\"text\"].isna()].count()"
   ]
  },
  {
   "cell_type": "markdown",
   "metadata": {},
   "source": [
    "Now that we saw what the dataset looks like, different approaches could be tackled :\n",
    "\n",
    "- `Machine Learning Classification` : Use of traditional machine learning algorithms like Naive bayes, Support Vector Machines, Random Forest Classifiers\n",
    "    - `Pros` : Efficient with small datasets, interpretable, fast, can achieve good performance with thorough feature engineering\n",
    "\n",
    "    - `Cons` : Need thorough and exhaustive feature engineering, less effective with high-dimensionality, no context\n",
    "\n",
    "- `Deep Learning Classification` : Use of Neural Network architectures like Convolutional Neural Networks, Recurrent Neural Network . These methods can capture contextual information, possibly long term memory and perform well on large datasets\n",
    "    - `Pros` : Automatic feature extraction, use of the context, scalability\n",
    "\n",
    "    - `Cons` : Need a lot of data, computationally intensive, hard interpretability\n",
    "\n",
    "- `Transfer Learning` : Use pre-trained language models like BERT or GPT, which can be fine-tuned on the dataset\n",
    "    - `Pros` : Quick adaptation, reduced training time\n",
    "\n",
    "    - `Cons` : Require lot of memory and processing power, can overfit\n",
    "\n",
    "--> What approaches to do then ?\n",
    "Because of the time constraint, I will go for `Machine Learning Classification` because it is much faster to implement and debug, moreover the dataset is not that big so I should get good results. If I still have time left, I will explore Deep Learning."
   ]
  },
  {
   "cell_type": "markdown",
   "metadata": {},
   "source": [
    "## 2. Machine Learning Classification : Implementation"
   ]
  },
  {
   "cell_type": "markdown",
   "metadata": {},
   "source": [
    "### 2.1 Processing of the text feature"
   ]
  },
  {
   "cell_type": "markdown",
   "metadata": {},
   "source": [
    "Before building any model, the first thing to do is always to process the text data. It will consists in : removing stop words, removing punctuation, transform the text query into tokens, lemmatize the tokens. It allows the model to be more robust to noise, learn faster and better and apply some kind of normalization to the text.\n",
    "\n",
    "One thing to keep in mind is that sometimes, number appear. It would be then good to keep this information because some issues would more likely incite the customer to write an number in the query.\n",
    "\n",
    "Also, in the sentence \"Why did I only get 20$\", we need to keep the only because it carries important meaning. So we need to be careful the way we remove stop words."
   ]
  },
  {
   "cell_type": "code",
   "execution_count": 7,
   "metadata": {},
   "outputs": [],
   "source": [
    "stop = set(stopwords.words(\"english\"))\n",
    "punctuation = set(string.punctuation)\n",
    "lemma = WordNetLemmatizer()"
   ]
  },
  {
   "cell_type": "code",
   "execution_count": 8,
   "metadata": {},
   "outputs": [],
   "source": [
    "def get_wordnet_pos(tag):\n",
    "    if tag.startswith('J'):\n",
    "        return wordnet.ADV\n",
    "    elif tag.startswith('R'):\n",
    "        return wordnet.ADV\n",
    "    elif tag.startswith('V'):\n",
    "        return wordnet.VERB\n",
    "    else:\n",
    "        return wordnet.NOUN\n",
    "\n",
    "def process_sent(sentence):\n",
    "    sentence = sentence.strip().lower().split()\n",
    "    words = [re.sub(r'\\d+(\\.\\d+)?', 'number', word) for word in sentence] # Replace numbers with NUMBER token\n",
    "    words = [word.strip(string.punctuation) for word in words]\n",
    "\n",
    "    pos_tagged = pos_tag(words)\n",
    "\n",
    "    cleaned_sent = [\n",
    "        lemma.lemmatize(word, get_wordnet_pos(pos)) for (word, pos) in pos_tagged \\\n",
    "                    if  word.isalpha() and not ( word in stop and get_wordnet_pos(pos) not in [wordnet.ADV, wordnet.ADV] )  # Keep adverbs, adjectives\n",
    "    ]\n",
    "\n",
    "    return \" \".join(word for word in cleaned_sent)"
   ]
  },
  {
   "cell_type": "code",
   "execution_count": 9,
   "metadata": {},
   "outputs": [
    {
     "data": {
      "text/html": [
       "<div>\n",
       "<style scoped>\n",
       "    .dataframe tbody tr th:only-of-type {\n",
       "        vertical-align: middle;\n",
       "    }\n",
       "\n",
       "    .dataframe tbody tr th {\n",
       "        vertical-align: top;\n",
       "    }\n",
       "\n",
       "    .dataframe thead th {\n",
       "        text-align: right;\n",
       "    }\n",
       "</style>\n",
       "<table border=\"1\" class=\"dataframe\">\n",
       "  <thead>\n",
       "    <tr style=\"text-align: right;\">\n",
       "      <th></th>\n",
       "      <th>text</th>\n",
       "      <th>label</th>\n",
       "      <th>text_processed</th>\n",
       "    </tr>\n",
       "  </thead>\n",
       "  <tbody>\n",
       "    <tr>\n",
       "      <th>0</th>\n",
       "      <td>Why did I only receive a partial amount of wha...</td>\n",
       "      <td>3</td>\n",
       "      <td>only receive partial amount try withdraw</td>\n",
       "    </tr>\n",
       "    <tr>\n",
       "      <th>1</th>\n",
       "      <td>my atm transaction was wrong</td>\n",
       "      <td>3</td>\n",
       "      <td>atm transaction wrong</td>\n",
       "    </tr>\n",
       "    <tr>\n",
       "      <th>2</th>\n",
       "      <td>why did i only get 20.00</td>\n",
       "      <td>3</td>\n",
       "      <td>only get number</td>\n",
       "    </tr>\n",
       "    <tr>\n",
       "      <th>3</th>\n",
       "      <td>Why is my cash request and the amount I receiv...</td>\n",
       "      <td>3</td>\n",
       "      <td>cash request amount receive different</td>\n",
       "    </tr>\n",
       "    <tr>\n",
       "      <th>4</th>\n",
       "      <td>I tried to withdraw $100, all it gave me was $20.</td>\n",
       "      <td>3</td>\n",
       "      <td>try withdraw number give number</td>\n",
       "    </tr>\n",
       "  </tbody>\n",
       "</table>\n",
       "</div>"
      ],
      "text/plain": [
       "                                                text  label  \\\n",
       "0  Why did I only receive a partial amount of wha...      3   \n",
       "1                       my atm transaction was wrong      3   \n",
       "2                           why did i only get 20.00      3   \n",
       "3  Why is my cash request and the amount I receiv...      3   \n",
       "4  I tried to withdraw $100, all it gave me was $20.      3   \n",
       "\n",
       "                             text_processed  \n",
       "0  only receive partial amount try withdraw  \n",
       "1                     atm transaction wrong  \n",
       "2                           only get number  \n",
       "3     cash request amount receive different  \n",
       "4           try withdraw number give number  "
      ]
     },
     "execution_count": 9,
     "metadata": {},
     "output_type": "execute_result"
    }
   ],
   "source": [
    "train_df['text_processed'] = train_df['text'].apply(process_sent)\n",
    "train_df.head()"
   ]
  },
  {
   "cell_type": "markdown",
   "metadata": {},
   "source": [
    "### 2.2 Vectorizing the text data"
   ]
  },
  {
   "cell_type": "markdown",
   "metadata": {},
   "source": [
    "Now that the text data is processed, we need to find a way to vectorize it so that the models can train on this data. We can vectorize it in two ways :\n",
    "- Compute the matrix containing the number of occurences of the n-grams with n pre-selected\n",
    "- Compute the TF-IDF matrix\n",
    "\n",
    "We classify customer queries which are about only one topic, so TF-IDF should be better to emphasize words containing a lot of information"
   ]
  },
  {
   "cell_type": "code",
   "execution_count": 12,
   "metadata": {},
   "outputs": [
    {
     "name": "stdout",
     "output_type": "stream",
     "text": [
      "TF-IDF Shape : (2169, 1974)\n"
     ]
    }
   ],
   "source": [
    "tfidf_vectorizer = TfidfVectorizer(min_df = 3, ngram_range=(1, 3))\n",
    "tfidf_matrix = tfidf_vectorizer.fit_transform(train_df['text_processed'])\n",
    "print(\"TF-IDF Shape :\", tfidf_matrix.shape)\n"
   ]
  },
  {
   "cell_type": "markdown",
   "metadata": {},
   "source": [
    "We could do some topic modeling like NMF, LSA or LDA and then use the resulting matrix for training the model but here, the queries are really short and each of them mostly talk about only one topic, so I do not think it is necessary"
   ]
  },
  {
   "cell_type": "markdown",
   "metadata": {},
   "source": [
    "### 2.3 Defining models"
   ]
  },
  {
   "cell_type": "markdown",
   "metadata": {},
   "source": [
    "We will pick Naive Bayes, Random Forest and SVM models to classify the text queries because they are the most classic in this context"
   ]
  },
  {
   "cell_type": "code",
   "execution_count": 13,
   "metadata": {},
   "outputs": [],
   "source": [
    "svm_model = SVC(kernel='linear', random_state=1)\n",
    "svm_param_grid = {\n",
    "    'C':[0.1, 1, 10, 50],\n",
    "    'kernel':['linear', 'rbf'],\n",
    "    'gamma':[0.001, 0.01, 0.1]\n",
    "}\n",
    "rf_model = RandomForestClassifier(random_state=1)\n",
    "rf_param_grid = {\n",
    "    'n_estimators':[100, 200, 400],\n",
    "    'max_features':[\"sqrt\", \"log2\"],\n",
    "    'max_depth':[20, 40],\n",
    "    'min_samples_split':[2, 5]\n",
    "}\n",
    "nb_model = MultinomialNB()\n",
    "nb_param_grid = {\n",
    "    'alpha':[0.1, 0.5, 1, 10],\n",
    "    'fit_prior': [True, False]\n",
    "}"
   ]
  },
  {
   "cell_type": "markdown",
   "metadata": {},
   "source": [
    "## 3. Training and evaluation"
   ]
  },
  {
   "cell_type": "markdown",
   "metadata": {},
   "source": [
    "We will perform `cross-validation` to select the model and use `accuracy`, and the `confusion_matrix` to measure performances. I would have use also recall, F1-score and precision but I lack time"
   ]
  },
  {
   "cell_type": "code",
   "execution_count": 14,
   "metadata": {},
   "outputs": [
    {
     "name": "stdout",
     "output_type": "stream",
     "text": [
      "---- SVM Model ----\n",
      "Label 0, Numer of false predictions : 1\n",
      "Label 1, Numer of false predictions : 1\n",
      "Label 2, Numer of false predictions : 2\n",
      "Label 3, Numer of false predictions : 3\n",
      "Label 4, Numer of false predictions : 5\n",
      "Label 5, Numer of false predictions : 1\n",
      "Label 6, Numer of false predictions : 2\n",
      "Label 7, Numer of false predictions : 3\n",
      "Label 8, Numer of false predictions : 4\n",
      "Label 9, Numer of false predictions : 2\n"
     ]
    },
    {
     "data": {
      "image/png": "[encoded data removed]",
      "text/plain": [
       "<Figure size 640x480 with 2 Axes>"
      ]
     },
     "metadata": {},
     "output_type": "display_data"
    },
    {
     "name": "stdout",
     "output_type": "stream",
     "text": [
      "SVM Model Accuracy :  0.9447004608294931 \n",
      "\n",
      "---- Random Forest Model ----\n",
      "Label 0, Numer of false predictions : 5\n",
      "Label 1, Numer of false predictions : 4\n",
      "Label 2, Numer of false predictions : 1\n",
      "Label 3, Numer of false predictions : 3\n",
      "Label 4, Numer of false predictions : 5\n",
      "Label 5, Numer of false predictions : 2\n",
      "Label 6, Numer of false predictions : 2\n",
      "Label 7, Numer of false predictions : 3\n",
      "Label 8, Numer of false predictions : 3\n",
      "Label 9, Numer of false predictions : 2\n"
     ]
    },
    {
     "data": {
      "image/png": "[encoded data removed]",
      "text/plain": [
       "<Figure size 640x480 with 2 Axes>"
      ]
     },
     "metadata": {},
     "output_type": "display_data"
    },
    {
     "name": "stdout",
     "output_type": "stream",
     "text": [
      "Random Forest Model Accuracy :  0.9308755760368663\n",
      "---- Naive Bayes Model ----\n",
      "Label 0, Numer of false predictions : 5\n",
      "Label 1, Numer of false predictions : 3\n",
      "Label 2, Numer of false predictions : 3\n",
      "Label 3, Numer of false predictions : 3\n",
      "Label 4, Numer of false predictions : 5\n",
      "Label 5, Numer of false predictions : 1\n",
      "Label 6, Numer of false predictions : 3\n",
      "Label 7, Numer of false predictions : 4\n",
      "Label 8, Numer of false predictions : 4\n",
      "Label 9, Numer of false predictions : 3\n"
     ]
    },
    {
     "data": {
      "image/png": "[encoded data removed]",
      "text/plain": [
       "<Figure size 640x480 with 2 Axes>"
      ]
     },
     "metadata": {},
     "output_type": "display_data"
    },
    {
     "name": "stdout",
     "output_type": "stream",
     "text": [
      "Naive Bayes Model Accuracy :  0.9216589861751152 \n",
      "\n"
     ]
    }
   ],
   "source": [
    "\n",
    "def train_and_evaluate(model, param_grid, X, y, cv):\n",
    "    X_train, X_test, y_train, y_test = train_test_split(tfidf_matrix, train_df['label'], test_size=0.2, random_state=1)\n",
    "\n",
    "    grid = GridSearchCV(estimator=model, param_grid=param_grid, cv=cv, scoring=\"accuracy\", n_jobs=-1)\n",
    "    grid.fit(X_train, y_train)\n",
    "\n",
    "    best_model = grid.best_estimator_\n",
    "    test_accuracy = best_model.score(X_test, y_test)\n",
    "\n",
    "    y_pred = best_model.predict(X_test)\n",
    "\n",
    "    conf_matrix = confusion_matrix(y_test, y_pred)\n",
    "\n",
    "    for i, row in enumerate(conf_matrix):\n",
    "        false_predictions = sum(row) - row[i]\n",
    "        print(f\"Label {i}, Numer of false predictions : {false_predictions}\")\n",
    "    sns.heatmap(conf_matrix, annot=True, fmt='g')\n",
    "    plt.xlabel('Predicted labels')\n",
    "    plt.ylabel('True labels')\n",
    "    plt.title('Confusion matrix')\n",
    "    plt.show()\n",
    "\n",
    "    return test_accuracy\n",
    "\n",
    "X = tfidf_matrix\n",
    "y = train_df['label']\n",
    "print(\"---- SVM Model ----\")\n",
    "print(\"SVM Model Accuracy : \", train_and_evaluate(svm_model, svm_param_grid, X, y, cv=5), \"\\n\")\n",
    "print(\"---- Random Forest Model ----\")\n",
    "print(\"Random Forest Model Accuracy : \", train_and_evaluate(rf_model, rf_param_grid, X, y, cv=5))\n",
    "print(\"---- Naive Bayes Model ----\")\n",
    "print(\"Naive Bayes Model Accuracy : \", train_and_evaluate(nb_model, nb_param_grid, X, y, cv=5), \"\\n\")\n",
    "\n"
   ]
  },
  {
   "cell_type": "markdown",
   "metadata": {},
   "source": [
    "The accuracies are the following : \n",
    "- SVM Model Accuracy :  0.94\n",
    "- Random Forest Accuracy : 0.93\n",
    "- Naive Bayes Accuracy : 0.92"
   ]
  },
  {
   "cell_type": "markdown",
   "metadata": {},
   "source": [
    "## 4. Results discussion and recommendations"
   ]
  },
  {
   "cell_type": "markdown",
   "metadata": {},
   "source": [
    "In terms of `accuracy, the best model is the SVM` one. In terms of the `number of falsely predicted label, SVM is also the best` with only 24 falsely predicted label in total. \n",
    "\n",
    "My `recommendation` for the business would be to `pick the SVM` model, `except` if, the business does not want a category to be falsely predicted because a false prediction would be really bad money-wise, time-wise or whatever reason. Then, I would advise to pick the model that have the lowest number of false predictions in the critical category or categories.\n",
    "\n",
    "I would also recommend to further develop the model as 94% accuracy is not optimal and a much better accuracy could be achieved ( at least 97-98% fore sure ).\n"
   ]
  },
  {
   "cell_type": "markdown",
   "metadata": {},
   "source": [
    "## 5. Improvements"
   ]
  },
  {
   "cell_type": "markdown",
   "metadata": {},
   "source": [
    "Several improvements could be made :\n",
    "\n",
    "- Collect more data, it never hurts\n",
    "\n",
    "- Try different text processing techniques. I transformed all the numbers into a single token but maybe the amount can help categorize the text query. Also, I lemmatized the text but I could also stem it. I could also have done Named Entity Recognition to help the model understand the meaning\n",
    "\n",
    "- Use a different vectorization. I used TF-IDF but maybe just using the number of occurences would have been better\n",
    "\n",
    "- Use topic modeling. I did not do it but maybe some queries spoke about several topics that could lead to the right label\n",
    "\n",
    "- Further tune the hyperparameters could have greatly improve the models performances\n",
    "\n",
    "- Try ensemble methods ,like boosting, which often yield good results\n",
    "\n",
    "- Do word embedding to vectorize the text and then train the model on it\n",
    "\n",
    "- Explore Deep Learning and Transfer Learning"
   ]
  },
  {
   "cell_type": "markdown",
   "metadata": {},
   "source": []
  }
 ],
 "metadata": {
  "kernelspec": {
   "display_name": "Python 3.10.9 64-bit",
   "language": "python",
   "name": "python3"
  },
  "language_info": {
   "codemirror_mode": {
    "name": "ipython",
    "version": 3
   },
   "file_extension": ".py",
   "mimetype": "text/x-python",
   "name": "python",
   "nbconvert_exporter": "python",
   "pygments_lexer": "ipython3",
   "version": "3.10.9"
  },
  "orig_nbformat": 4,
  "vscode": {
   "interpreter": {
    "hash": "b0fa6594d8f4cbf19f97940f81e996739fb7646882a419484c72d19e05852a7e"
   }
  }
 },
 "nbformat": 4,
 "nbformat_minor": 2
}
